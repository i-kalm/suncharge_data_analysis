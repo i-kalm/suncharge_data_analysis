{
 "cells": [
  {
   "cell_type": "code",
   "execution_count": 35,
   "id": "d1cb0461-febe-4bf8-99d6-f0a91bf6410d",
   "metadata": {},
   "outputs": [],
   "source": [
    "import os\n",
    "import pandas as pd\n",
    "import matplotlib.pyplot as plt\n",
    "import numpy as np"
   ]
  },
  {
   "cell_type": "code",
   "execution_count": null,
   "id": "316cbba4-3070-41d9-9e15-ed35dc11879f",
   "metadata": {},
   "outputs": [],
   "source": [
    "data_directory = \"C:\\\\Users\\\\irina\\\\Documents\\\\UH\\\\Vizualization in Data Science DL\\\\suncharge\\\\data\"\n",
    "files = os.listdir(data_directory)\n",
    "for file in files:\n",
    "    print(file)"
   ]
  },
  {
   "cell_type": "code",
   "execution_count": 60,
   "id": "f80d6b31-2606-48cc-875b-230f26933c12",
   "metadata": {},
   "outputs": [
    {
     "name": "stdout",
     "output_type": "stream",
     "text": [
      "All files have been processed.\n"
     ]
    }
   ],
   "source": [
    "# source_directory = data_directory\n",
    "# destination_directory = data_directory\n",
    "# # Make sure the destination directory exists\n",
    "# os.makedirs(data_directory, exist_ok=True)\n",
    "\n",
    "# # Loop through all files in the source directory\n",
    "# for filename in os.listdir(source_directory):\n",
    "#     if filename.endswith('.csv'):  # Check if the file is a CSV\n",
    "#         file_path = os.path.join(source_directory, filename)\n",
    "        \n",
    "#         # Read the CSV file into a DataFrame\n",
    "#         df = pd.read_csv(file_path)\n",
    "        \n",
    "#         # Check and remove the \"Unnamed: 0\" column if it exists\n",
    "#         if 'Unnamed: 0' in df.columns:\n",
    "#             df = df.drop('Unnamed: 0', axis=1)\n",
    "        \n",
    "#         # Write the DataFrame back to a new CSV file without the unwanted column\n",
    "#         destination_file_path = os.path.join(destination_directory, filename)\n",
    "#         df.to_csv(destination_file_path, index=False)  # Set index=False to avoid writing row numbers as a separate column\n",
    "\n",
    "# print(\"All files have been processed.\")"
   ]
  },
  {
   "cell_type": "code",
   "execution_count": 78,
   "id": "9cc74539-1f5f-4f46-8ac1-079d0ff0d05d",
   "metadata": {},
   "outputs": [
    {
     "name": "stdout",
     "output_type": "stream",
     "text": [
      "   Material                        Component                 Product Category  \\\n",
      "0  EVCB-001                              NaN              EV Car Battery - FP   \n",
      "1    BC-001                    Battery Cells                    Battery Cells   \n",
      "2   BMS-001  Battery Management System (BMS)  Battery Management System (BMS)   \n",
      "3    CF-001                     Cooling Fans        Thermal Management System   \n",
      "4    CF-002                     Cooling Fans        Thermal Management System   \n",
      "\n",
      "  Finished Product  \n",
      "0   EV Car Battery  \n",
      "1   EV Car Battery  \n",
      "2   EV Car Battery  \n",
      "3   EV Car Battery  \n",
      "4   EV Car Battery  \n",
      "(42, 4)\n"
     ]
    }
   ],
   "source": [
    "bom_file = os.path.join(data_directory, 'bom.csv')\n",
    "bom = pd.read_csv(bom_file)\n",
    "print(bom.head(5))\n",
    "print(bom.shape)"
   ]
  },
  {
   "cell_type": "code",
   "execution_count": 76,
   "id": "0f000cb2-bb05-4ab2-9ad2-1fabc8cf501c",
   "metadata": {},
   "outputs": [
    {
     "name": "stdout",
     "output_type": "stream",
     "text": [
      "   CustomerCountry  PlantKey\n",
      "0          Belgium         4\n",
      "1          Croatia         6\n",
      "2   Czech Republic         5\n",
      "3          Denmark         8\n",
      "4          Estonia         8\n",
      "5          Finland         8\n",
      "6           France         6\n",
      "7          Germany         4\n",
      "8           Greece         5\n",
      "9          Hungary         5\n",
      "10           Italy         6\n",
      "11          Latvia         8\n",
      "12       Lithuania         8\n",
      "13     Netherlands         4\n",
      "14          Norway         8\n",
      "15          Poland         5\n",
      "16        Portugal         6\n",
      "17        Slovenia         6\n",
      "18           Spain         6\n",
      "19          Sweden         8\n",
      "20     Switzerland         6\n",
      "21  United Kingdom         7\n"
     ]
    }
   ],
   "source": [
    "cpr_file = os.path.join(data_directory, 'CustomerPlantRelation.csv')\n",
    "cpr = pd.read_csv(cpr_file)\n",
    "print(cpr)\n",
    "#print(cpr.shape)"
   ]
  },
  {
   "cell_type": "code",
   "execution_count": 63,
   "id": "e5489a8f-c242-4133-8371-38a660eb5813",
   "metadata": {},
   "outputs": [
    {
     "name": "stdout",
     "output_type": "stream",
     "text": [
      "   CustomerKey                CustomerName CustomerCountry CustomerCity  \\\n",
      "0            1             O'Hara-MacGyver         Germany      Hamburg   \n",
      "1            2  Smitham, Lind and Lindgren         Germany      München   \n",
      "\n",
      "  CustomerPostalCode     CustomerStreet  PlantKey  \n",
      "0              22041  36 Westport Court         4  \n",
      "1              81679   934 Shelley Lane         4  \n",
      "(1227, 7)\n"
     ]
    }
   ],
   "source": [
    "cust_file = os.path.join(data_directory, 'Customers.csv')\n",
    "cust = pd.read_csv(cust_file)\n",
    "print(cust.head(2))\n",
    "print(cust.shape)"
   ]
  },
  {
   "cell_type": "code",
   "execution_count": 64,
   "id": "a1b84dc0-19bb-4d64-a89e-1dc20a44ce8a",
   "metadata": {},
   "outputs": [
    {
     "data": {
      "image/png": "[encoded data removed]",
      "text/plain": [
       "<Figure size 600x400 with 1 Axes>"
      ]
     },
     "metadata": {},
     "output_type": "display_data"
    }
   ],
   "source": [
    "import matplotlib.pyplot as plt\n",
    "import pandas as pd\n",
    "import numpy as np\n",
    "\n",
    "# Example of restructuring data for this purpose\n",
    "# This assumes cust contains columns for CustomerCountry, PlantKey, and CustomerKey (or equivalent customer identifier)\n",
    "data_aggregated = cust.groupby(['PlantKey', 'CustomerCountry']).agg({\n",
    "    'CustomerKey': 'count'  # Count of customers by PlantKey and CustomerCountry\n",
    "}).reset_index()\n",
    "\n",
    "# Sorting (optional, for better visualization)\n",
    "data_aggregated.sort_values(['PlantKey', 'CustomerKey'], inplace=True)\n",
    "\n",
    "# Unique countries for color mapping\n",
    "unique_countries = data_aggregated['CustomerCountry'].unique()\n",
    "colors = plt.cm.tab20(np.linspace(0, 1, len(unique_countries)))\n",
    "country_color_map = {country: color for country, color in zip(unique_countries, colors)}\n",
    "\n",
    "# Plotting\n",
    "plt.figure(figsize=(6, 4))\n",
    "\n",
    "previous_plant = None\n",
    "bottoms = np.zeros(len(data_aggregated['PlantKey'].unique()))\n",
    "\n",
    "for _, row in data_aggregated.iterrows():\n",
    "    plant_index = np.where(data_aggregated['PlantKey'].unique() == row['PlantKey'])[0][0]\n",
    "    plt.bar(row['PlantKey'], row['CustomerKey'], bottom=bottoms[plant_index], \n",
    "            color=country_color_map[row['CustomerCountry']], label=row['CustomerCountry'])\n",
    "    bottoms[plant_index] += row['CustomerKey']\n",
    "\n",
    "plt.title('Customers per Plant Segmented by Country', size = 8)\n",
    "plt.xlabel('PlantKey', size = 8)\n",
    "plt.ylabel('Number of Customers', size = 8)\n",
    "plt.xticks(rotation=45)\n",
    "plt.legend(title='Country', bbox_to_anchor=(0.5, -0.15), loc='upper center', ncol=4, fontsize='small', frameon=False)\n",
    "#plt.legend(title='Country', bbox_to_anchor=(1.05, 1), loc='upper left')\n",
    "plt.tight_layout()\n",
    "plt.show()"
   ]
  },
  {
   "cell_type": "code",
   "execution_count": 65,
   "id": "543f3410-17c0-41c4-83ab-26fc62db804a",
   "metadata": {},
   "outputs": [
    {
     "name": "stdout",
     "output_type": "stream",
     "text": [
      "  RequestedDeliveryMonth  MaterialKey  PlantKey  Quantity  MaterialPlantKey\n",
      "0             2022-01-01            1         4     15978             10004\n",
      "1             2022-01-01            1         5      5360             10005\n",
      "(480, 5)\n"
     ]
    }
   ],
   "source": [
    "frcst_file = os.path.join(data_directory, 'Forecast.csv')\n",
    "frcst = pd.read_csv(frcst_file)\n",
    "print(frcst.head(2))\n",
    "print(frcst.shape)"
   ]
  },
  {
   "cell_type": "code",
   "execution_count": 66,
   "id": "b8271a2c-7c43-4e20-8901-66e45b41c5a8",
   "metadata": {},
   "outputs": [
    {
     "name": "stdout",
     "output_type": "stream",
     "text": [
      "Inventory.csv:\n",
      "   MaterialKey  PlantKey  MaterialPlantKey SnapshotDate  \\\n",
      "0            1         4             10004   2021-12-31   \n",
      "1            1         5             10005   2021-12-31   \n",
      "\n",
      "   GrossInventoryQuantity  OnShelfInventoryQuantity  InTransitQuantity  \n",
      "0                  1753.0                      1626              127.0  \n",
      "1                   794.0                       746               48.0  \n",
      "(260, 7)\n"
     ]
    }
   ],
   "source": [
    "# Inventory.csv\n",
    "inventory_file = os.path.join(data_directory, 'Inventory.csv')\n",
    "inventory = pd.read_csv(inventory_file)\n",
    "print(\"Inventory.csv:\")\n",
    "print(inventory.head(2))\n",
    "print(inventory.shape)"
   ]
  },
  {
   "cell_type": "code",
   "execution_count": 67,
   "id": "6920016e-cffa-454f-9ec3-7b0d93bbe845",
   "metadata": {},
   "outputs": [
    {
     "name": "stdout",
     "output_type": "stream",
     "text": [
      "MaterialPlantRelation.csv:\n",
      "   MaterialKey  PlantKey  MaterialPlantKey  VendorKey  StandardCost Currency  \\\n",
      "0            1         4             10004       1001       2680.05      EUR   \n",
      "1            1         5             10005       1002      11547.17      PLN   \n",
      "\n",
      "   ProductionTime  InboundTransportationTime  GoodReceiptProcessingTime  \\\n",
      "0              20                          1                          2   \n",
      "1              20                          1                          2   \n",
      "\n",
      "   TotalInboundLeadTime  SafetyStockQty  \n",
      "0                    23          1000.0  \n",
      "1                    23           500.0  \n",
      "(109, 11)\n"
     ]
    }
   ],
   "source": [
    "# MaterialPlantRelation.csv\n",
    "material_plant_relation_file = os.path.join(data_directory, 'MaterialPlantRelation.csv')\n",
    "material_plant_relation = pd.read_csv(material_plant_relation_file)\n",
    "print(\"MaterialPlantRelation.csv:\")\n",
    "print(material_plant_relation.head(2))\n",
    "print(material_plant_relation.shape)"
   ]
  },
  {
   "cell_type": "code",
   "execution_count": 68,
   "id": "9b3af2e1-f5a0-4c0a-a6df-3ded04ccc00f",
   "metadata": {},
   "outputs": [
    {
     "name": "stdout",
     "output_type": "stream",
     "text": [
      "Materials.csv:\n",
      "   Material  MaterialKey      MaterialType MaterialDescription  \\\n",
      "0  EVCB-001            1  Finished Product      EV Car Battery   \n",
      "1    HB-001            2  Finished Product        Home Battery   \n",
      "\n",
      "       Product Category Component  \n",
      "0   EV Car Battery - FP       NaN  \n",
      "1  EV Home Battery - FP       NaN  \n",
      "(33, 6)\n"
     ]
    }
   ],
   "source": [
    "# Materials.csv\n",
    "materials_file = os.path.join(data_directory, 'Materials.csv')\n",
    "materials = pd.read_csv(materials_file)\n",
    "print(\"Materials.csv:\")\n",
    "print(materials.head(2))\n",
    "print(materials.shape)"
   ]
  },
  {
   "cell_type": "code",
   "execution_count": 73,
   "id": "36c3fe32-d4e4-43f0-8455-384a70a5ae54",
   "metadata": {},
   "outputs": [
    {
     "name": "stdout",
     "output_type": "stream",
     "text": [
      "Plants.csv:\n",
      "   PlantKey Plant            PlantType           PlantName PlantCity  \\\n",
      "0         1  ANT1           Production  Antwerp Production   Antwerp   \n",
      "1         2  WRO1           Production  Wrocław Production   Wrocław   \n",
      "2         3  LYO1           Production     Lyon Production      Lyon   \n",
      "3         4  ANT2  Distribution Center          Antwerp DC   Antwerp   \n",
      "4         5  WRO2  Distribution Center          Wrocław DC   Wrocław   \n",
      "\n",
      "  PlantPostalCode         PlantStreet  \n",
      "0            2030         Scheldelaan  \n",
      "1          54-202            Legnicka  \n",
      "2           69160  Av. Mathieu Misery  \n",
      "3            2030         Scheldelaan  \n",
      "4          54-202            Legnicka  \n"
     ]
    }
   ],
   "source": [
    "# Plants.csv\n",
    "plants_file = os.path.join(data_directory, 'Plants.csv')\n",
    "plants = pd.read_csv(plants_file)\n",
    "print(\"Plants.csv:\")\n",
    "print(plants.head())\n",
    "#print(plants.shape)"
   ]
  },
  {
   "cell_type": "code",
   "execution_count": 70,
   "id": "b2694677-0aef-4b98-a45c-60128c0085ea",
   "metadata": {},
   "outputs": [
    {
     "name": "stdout",
     "output_type": "stream",
     "text": [
      "Purchases.csv:\n",
      "   PurchaseOrder PurchaseOrderCreationDate  VendorKey  PlantKey  MaterialKey  \\\n",
      "0     4500000001                2023-06-07       1002         5            1   \n",
      "1     4500000002                2023-03-05       1001         7            1   \n",
      "\n",
      "   MaterialPlantKey  PurchaseOrderQuantity PlannedGoodsReceiptDate  \\\n",
      "0             10005                     69              2023-06-30   \n",
      "1             10007                     80              2023-03-28   \n",
      "\n",
      "  ActualGoodsReceiptDate PlannedArrivalDateYard ActualArrivalDateYard  \\\n",
      "0             2023-07-04             2023-06-28            2023-07-02   \n",
      "1             2023-03-24             2023-03-26            2023-03-26   \n",
      "\n",
      "  PlannedVendorShipmentDate ActualVendorShipmentDate  \n",
      "0                2023-06-27               2023-07-01  \n",
      "1                2023-03-25               2023-03-25  \n",
      "(20000, 13)\n"
     ]
    }
   ],
   "source": [
    "# Purchases.csv\n",
    "purchases_file = os.path.join(data_directory, 'Purchases.csv')\n",
    "purchases = pd.read_csv(purchases_file)\n",
    "print(\"Purchases.csv:\")\n",
    "print(purchases.head(2))\n",
    "print(purchases.shape)"
   ]
  },
  {
   "cell_type": "code",
   "execution_count": 71,
   "id": "0840445e-c0bc-475b-b877-753ed73168c8",
   "metadata": {},
   "outputs": [
    {
     "name": "stdout",
     "output_type": "stream",
     "text": [
      "Sales.csv:\n",
      "   SalesOrder  SalesOrderItem SalesOrderCreationDate  CustomerKey  \\\n",
      "0    10000001              10             2024-10-08          349   \n",
      "1    10000002              10             2023-05-27          759   \n",
      "\n",
      "   MaterialKey  OrderQuantity  PlantKey  MaterialPlantKey SalesDocType  \\\n",
      "0            1             26         4             10004      Regular   \n",
      "1            1             20         5             10005      Regular   \n",
      "\n",
      "  RequestedDeliveryDate DeliveryDate  HighOrderQtyFlag  \n",
      "0            2024-11-15   2024-11-15                 0  \n",
      "1            2023-06-15   2023-06-12                 0  \n",
      "(100000, 12)\n"
     ]
    }
   ],
   "source": [
    "# Sales.csv\n",
    "sales_file = os.path.join(data_directory, 'Sales.csv')\n",
    "sales = pd.read_csv(sales_file)\n",
    "print(\"Sales.csv:\")\n",
    "print(sales.head(2))\n",
    "print(sales.shape)"
   ]
  },
  {
   "cell_type": "code",
   "execution_count": 59,
   "id": "e15ec21f-da9d-483d-8297-e2101e096390",
   "metadata": {},
   "outputs": [
    {
     "data": {
      "text/html": [
       "<div>\n",
       "<style scoped>\n",
       "    .dataframe tbody tr th:only-of-type {\n",
       "        vertical-align: middle;\n",
       "    }\n",
       "\n",
       "    .dataframe tbody tr th {\n",
       "        vertical-align: top;\n",
       "    }\n",
       "\n",
       "    .dataframe thead th {\n",
       "        text-align: right;\n",
       "    }\n",
       "</style>\n",
       "<table border=\"1\" class=\"dataframe\">\n",
       "  <thead>\n",
       "    <tr style=\"text-align: right;\">\n",
       "      <th></th>\n",
       "      <th>Unnamed: 0_x</th>\n",
       "      <th>CustomerKey</th>\n",
       "      <th>CustomerName</th>\n",
       "      <th>CustomerCountry</th>\n",
       "      <th>CustomerCity</th>\n",
       "      <th>CustomerPostalCode</th>\n",
       "      <th>CustomerStreet</th>\n",
       "      <th>PlantKey_x</th>\n",
       "      <th>Unnamed: 0_y</th>\n",
       "      <th>SalesOrder</th>\n",
       "      <th>SalesOrderItem</th>\n",
       "      <th>SalesOrderCreationDate</th>\n",
       "      <th>MaterialKey</th>\n",
       "      <th>OrderQuantity</th>\n",
       "      <th>PlantKey_y</th>\n",
       "      <th>MaterialPlantKey</th>\n",
       "      <th>SalesDocType</th>\n",
       "      <th>RequestedDeliveryDate</th>\n",
       "      <th>DeliveryDate</th>\n",
       "      <th>HighOrderQtyFlag</th>\n",
       "    </tr>\n",
       "  </thead>\n",
       "  <tbody>\n",
       "    <tr>\n",
       "      <th>0</th>\n",
       "      <td>1</td>\n",
       "      <td>1</td>\n",
       "      <td>O'Hara-MacGyver</td>\n",
       "      <td>Germany</td>\n",
       "      <td>Hamburg</td>\n",
       "      <td>22041</td>\n",
       "      <td>36 Westport Court</td>\n",
       "      <td>4</td>\n",
       "      <td>680</td>\n",
       "      <td>10000680</td>\n",
       "      <td>10</td>\n",
       "      <td>2024-07-21</td>\n",
       "      <td>2</td>\n",
       "      <td>18</td>\n",
       "      <td>4</td>\n",
       "      <td>20004</td>\n",
       "      <td>Regular</td>\n",
       "      <td>2024-08-26</td>\n",
       "      <td>2024-09-09</td>\n",
       "      <td>0</td>\n",
       "    </tr>\n",
       "    <tr>\n",
       "      <th>1</th>\n",
       "      <td>1</td>\n",
       "      <td>1</td>\n",
       "      <td>O'Hara-MacGyver</td>\n",
       "      <td>Germany</td>\n",
       "      <td>Hamburg</td>\n",
       "      <td>22041</td>\n",
       "      <td>36 Westport Court</td>\n",
       "      <td>4</td>\n",
       "      <td>731</td>\n",
       "      <td>10000731</td>\n",
       "      <td>10</td>\n",
       "      <td>2024-02-06</td>\n",
       "      <td>2</td>\n",
       "      <td>19</td>\n",
       "      <td>4</td>\n",
       "      <td>20004</td>\n",
       "      <td>Regular</td>\n",
       "      <td>2024-03-04</td>\n",
       "      <td>2024-02-28</td>\n",
       "      <td>0</td>\n",
       "    </tr>\n",
       "    <tr>\n",
       "      <th>2</th>\n",
       "      <td>1</td>\n",
       "      <td>1</td>\n",
       "      <td>O'Hara-MacGyver</td>\n",
       "      <td>Germany</td>\n",
       "      <td>Hamburg</td>\n",
       "      <td>22041</td>\n",
       "      <td>36 Westport Court</td>\n",
       "      <td>4</td>\n",
       "      <td>757</td>\n",
       "      <td>10000757</td>\n",
       "      <td>10</td>\n",
       "      <td>2022-06-01</td>\n",
       "      <td>1</td>\n",
       "      <td>16</td>\n",
       "      <td>4</td>\n",
       "      <td>10004</td>\n",
       "      <td>Regular</td>\n",
       "      <td>2022-07-01</td>\n",
       "      <td>2022-06-30</td>\n",
       "      <td>0</td>\n",
       "    </tr>\n",
       "    <tr>\n",
       "      <th>3</th>\n",
       "      <td>1</td>\n",
       "      <td>1</td>\n",
       "      <td>O'Hara-MacGyver</td>\n",
       "      <td>Germany</td>\n",
       "      <td>Hamburg</td>\n",
       "      <td>22041</td>\n",
       "      <td>36 Westport Court</td>\n",
       "      <td>4</td>\n",
       "      <td>3345</td>\n",
       "      <td>10003345</td>\n",
       "      <td>10</td>\n",
       "      <td>2022-11-13</td>\n",
       "      <td>1</td>\n",
       "      <td>19</td>\n",
       "      <td>4</td>\n",
       "      <td>10004</td>\n",
       "      <td>Regular</td>\n",
       "      <td>2022-12-29</td>\n",
       "      <td>2022-12-27</td>\n",
       "      <td>0</td>\n",
       "    </tr>\n",
       "    <tr>\n",
       "      <th>4</th>\n",
       "      <td>1</td>\n",
       "      <td>1</td>\n",
       "      <td>O'Hara-MacGyver</td>\n",
       "      <td>Germany</td>\n",
       "      <td>Hamburg</td>\n",
       "      <td>22041</td>\n",
       "      <td>36 Westport Court</td>\n",
       "      <td>4</td>\n",
       "      <td>3473</td>\n",
       "      <td>10003473</td>\n",
       "      <td>10</td>\n",
       "      <td>2022-05-11</td>\n",
       "      <td>2</td>\n",
       "      <td>20</td>\n",
       "      <td>4</td>\n",
       "      <td>20004</td>\n",
       "      <td>Regular</td>\n",
       "      <td>2022-05-30</td>\n",
       "      <td>2022-05-25</td>\n",
       "      <td>0</td>\n",
       "    </tr>\n",
       "  </tbody>\n",
       "</table>\n",
       "</div>"
      ],
      "text/plain": [
       "   Unnamed: 0_x  CustomerKey     CustomerName CustomerCountry CustomerCity  \\\n",
       "0             1            1  O'Hara-MacGyver         Germany      Hamburg   \n",
       "1             1            1  O'Hara-MacGyver         Germany      Hamburg   \n",
       "2             1            1  O'Hara-MacGyver         Germany      Hamburg   \n",
       "3             1            1  O'Hara-MacGyver         Germany      Hamburg   \n",
       "4             1            1  O'Hara-MacGyver         Germany      Hamburg   \n",
       "\n",
       "  CustomerPostalCode     CustomerStreet  PlantKey_x  Unnamed: 0_y  SalesOrder  \\\n",
       "0              22041  36 Westport Court           4           680    10000680   \n",
       "1              22041  36 Westport Court           4           731    10000731   \n",
       "2              22041  36 Westport Court           4           757    10000757   \n",
       "3              22041  36 Westport Court           4          3345    10003345   \n",
       "4              22041  36 Westport Court           4          3473    10003473   \n",
       "\n",
       "   SalesOrderItem SalesOrderCreationDate  MaterialKey  OrderQuantity  \\\n",
       "0              10             2024-07-21            2             18   \n",
       "1              10             2024-02-06            2             19   \n",
       "2              10             2022-06-01            1             16   \n",
       "3              10             2022-11-13            1             19   \n",
       "4              10             2022-05-11            2             20   \n",
       "\n",
       "   PlantKey_y  MaterialPlantKey SalesDocType RequestedDeliveryDate  \\\n",
       "0           4             20004      Regular            2024-08-26   \n",
       "1           4             20004      Regular            2024-03-04   \n",
       "2           4             10004      Regular            2022-07-01   \n",
       "3           4             10004      Regular            2022-12-29   \n",
       "4           4             20004      Regular            2022-05-30   \n",
       "\n",
       "  DeliveryDate  HighOrderQtyFlag  \n",
       "0   2024-09-09                 0  \n",
       "1   2024-02-28                 0  \n",
       "2   2022-06-30                 0  \n",
       "3   2022-12-27                 0  \n",
       "4   2022-05-25                 0  "
      ]
     },
     "execution_count": 59,
     "metadata": {},
     "output_type": "execute_result"
    }
   ],
   "source": [
    "# sales year\n",
    "# Requested Delivery Date vs Delivery Date \n",
    "country_sales = pd.merge(cust, sales, on='CustomerKey')\n",
    "# Aggregate sales by country and find the most common PlantKey for each country\n",
    "# sales_and_plant_by_country = country_sales.groupby('CustomerCountry').agg({\n",
    "#     'OrderQuantity': 'sum',  # Sum of sales\n",
    "#     'PlantKey': lambda x: x.mode()[0]  # Most common PlantKey\n",
    "# }).reset_index()\n",
    "\n",
    "country_sales.head(5)\n",
    "#sales_and_plant_by_country\n",
    "# # Sorting by sales for better visualization\n",
    "# sales_and_plant_by_country.sort_values('OrderQuantity', inplace=True)\n",
    "\n",
    "# # Step 3: Prepare color mapping\n",
    "# unique_plants = sales_and_plant_by_country['PlantKey'].unique()\n",
    "# colors = plt.cm.tab20(np.linspace(0, 1, len(unique_plants)))\n",
    "# plant_color_map = {plant: color for plant, color in zip(unique_plants, colors)}\n",
    "\n",
    "# # Step 4: Plotting\n",
    "# plt.figure(figsize=(10, 4))\n",
    "# for _, row in sales_and_plant_by_country.iterrows():\n",
    "#     plt.bar(row['CustomerCountry'], row['OrderQuantity'], color=plant_color_map[row['PlantKey']])\n",
    "\n",
    "# plt.title('Sales per Country')\n",
    "# plt.ylabel('Order Quantity')\n",
    "# plt.xticks(rotation=45, size=8)\n",
    "\n",
    "# # Creating a legend\n",
    "# from matplotlib.patches import Patch\n",
    "# legend_elements = [Patch(facecolor=plant_color_map[plant], label=plant) for plant in unique_plants]\n",
    "# plt.legend(handles=legend_elements, title='PlantKey', bbox_to_anchor=(1.05, 1), loc='upper left')\n",
    "\n",
    "# plt.tight_layout()\n",
    "# plt.show()"
   ]
  },
  {
   "cell_type": "code",
   "execution_count": 72,
   "id": "ff1df934-40ee-45da-8015-c0c7a4ad9753",
   "metadata": {},
   "outputs": [
    {
     "name": "stdout",
     "output_type": "stream",
     "text": [
      "Vendors.csv:\n",
      "   VendorKey VendorTier          VendorName VendorCountry VendorCity  \\\n",
      "0       1001         T0  Antwerp Production       Belgium    Antwerp   \n",
      "1       1002         T0  Wrocław Production        Poland    Wrocław   \n",
      "\n",
      "  VendorPostalCode VendorStreet  \n",
      "0             2030  Scheldelaan  \n",
      "1           54-202     Legnicka  \n",
      "(9, 7)\n"
     ]
    }
   ],
   "source": [
    "# Vendors.csv\n",
    "vendors_file = os.path.join(data_directory, 'Vendors.csv')\n",
    "vendors = pd.read_csv(vendors_file)\n",
    "print(\"Vendors.csv:\")\n",
    "print(vendors.head(2))\n",
    "print(vendors.shape)"
   ]
  }
 ],
 "metadata": {
  "kernelspec": {
   "display_name": "Python 3 (ipykernel)",
   "language": "python",
   "name": "python3"
  },
  "language_info": {
   "codemirror_mode": {
    "name": "ipython",
    "version": 3
   },
   "file_extension": ".py",
   "mimetype": "text/x-python",
   "name": "python",
   "nbconvert_exporter": "python",
   "pygments_lexer": "ipython3",
   "version": "3.11.7"
  }
 },
 "nbformat": 4,
 "nbformat_minor": 5
}
